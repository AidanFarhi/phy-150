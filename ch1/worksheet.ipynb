{
 "cells": [
  {
   "cell_type": "markdown",
   "metadata": {},
   "source": [
    "The uncertainty in the average weight of a 5-lb bag of apples is +-0.4lb. What is the percent uncertainty of the bag's weight?"
   ]
  },
  {
   "cell_type": "code",
   "execution_count": 5,
   "metadata": {},
   "outputs": [
    {
     "name": "stdout",
     "output_type": "stream",
     "text": [
      "8.0%\n"
     ]
    }
   ],
   "source": [
    "print((0.4/5) * 100, '%', sep='')"
   ]
  },
  {
   "cell_type": "markdown",
   "metadata": {},
   "source": [
    "A woman has three bags: two of the bags weigh 13.5 pounds each, and one bag weighs of 10.2 pounds. What is the total weight of the bags?"
   ]
  },
  {
   "cell_type": "code",
   "execution_count": 6,
   "metadata": {},
   "outputs": [
    {
     "name": "stdout",
     "output_type": "stream",
     "text": [
      "37.2 lb"
     ]
    }
   ],
   "source": [
    "print(13.5 * 2 + 10.2, 'lb', end='')"
   ]
  },
  {
   "cell_type": "markdown",
   "metadata": {},
   "source": [
    "The force 𝐹 on an object is equal to its mass 𝑚 multiplied by its acceleration 𝑎. If a wagon with mass 55 kg accelerates at a rate of  0.0255 m/s2, what is the force on the wagon? (The unit of force is called the newton, and it is expressed with the symbol N.)\n",
    "\n"
   ]
  },
  {
   "cell_type": "code",
   "execution_count": 9,
   "metadata": {},
   "outputs": [
    {
     "name": "stdout",
     "output_type": "stream",
     "text": [
      "1 N"
     ]
    }
   ],
   "source": [
    "print(round(55 * 0.0255), 'N', end='')"
   ]
  }
 ],
 "metadata": {
  "kernelspec": {
   "display_name": "venv",
   "language": "python",
   "name": "python3"
  },
  "language_info": {
   "codemirror_mode": {
    "name": "ipython",
    "version": 3
   },
   "file_extension": ".py",
   "mimetype": "text/x-python",
   "name": "python",
   "nbconvert_exporter": "python",
   "pygments_lexer": "ipython3",
   "version": "3.12.2"
  }
 },
 "nbformat": 4,
 "nbformat_minor": 2
}
