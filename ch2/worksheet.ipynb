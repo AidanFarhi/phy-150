{
 "cells": [
  {
   "cell_type": "markdown",
   "metadata": {},
   "source": [
    "A cyclist rides 3 km west and then turns around and rides 2 km east.\n",
    "\n",
    "(a) What is their displacement? \n",
    "\n",
    "Δ𝑥 = 𝑥f − 𝑥0 = -1.0 km − 0 km = -1.0 km.\n",
    "\n",
    "(b) What distance do they ride?\n",
    "\n",
    "3 km + 2 km = 5 km\n",
    "\n",
    "(c) What is the magnitude of their displacement?\n",
    "\n",
    "1 km"
   ]
  },
  {
   "cell_type": "markdown",
   "metadata": {},
   "source": [
    "A commuter train travels from Baltimore to Washington, DC, and back in 1 hour and 45 minutes. The distance between the two stations is approximately 40 miles. What is \n",
    "\n",
    "(a) the average velocity of the train\n",
    "\n",
    "0\n",
    "\n",
    "(b) the average speed of the train in m/s?\n",
    "\n",
    "20.44 m/s"
   ]
  },
  {
   "cell_type": "markdown",
   "metadata": {},
   "source": [
    "Average Speed"
   ]
  },
  {
   "cell_type": "code",
   "execution_count": 14,
   "metadata": {},
   "outputs": [
    {
     "name": "stdout",
     "output_type": "stream",
     "text": [
      "20.44 m/s\n"
     ]
    }
   ],
   "source": [
    "miles_per_minute = 80 / 105\n",
    "miles_per_second = miles_per_minute / 60\n",
    "meters_per_second = miles_per_second * 1609.34\n",
    "\n",
    "print(round(meters_per_second, 2), 'm/s')"
   ]
  },
  {
   "cell_type": "markdown",
   "metadata": {},
   "source": [
    "A racehorse coming out of the gate accelerates from rest to a velocity of 15.0 m/s due west in 1.80 s. What is its average acceleration?"
   ]
  },
  {
   "cell_type": "code",
   "execution_count": 2,
   "metadata": {},
   "outputs": [
    {
     "name": "stdout",
     "output_type": "stream",
     "text": [
      "-8.33 m/s^2\n"
     ]
    }
   ],
   "source": [
    "avg_acc = -15 / 1.8\n",
    "\n",
    "print(round(avg_acc, 2), \"m/s^2\")"
   ]
  },
  {
   "cell_type": "markdown",
   "metadata": {},
   "source": [
    "Suppose a train accelerates from rest to 30.0 km/h in the first 20.0 s of its motion. What is its average acceleration during that time interval?"
   ]
  },
  {
   "cell_type": "code",
   "execution_count": 22,
   "metadata": {},
   "outputs": [
    {
     "name": "stdout",
     "output_type": "stream",
     "text": [
      "0.42 m/s^2\n"
     ]
    }
   ],
   "source": [
    "tr_acc = 30 * 1000 / 3600 / 20\n",
    "\n",
    "print(round(tr_acc, 2), \"m/s^2\")"
   ]
  },
  {
   "cell_type": "markdown",
   "metadata": {},
   "source": [
    "Now suppose that at the end of its trip, the train slows to a stop from a speed of 30.0 km/h in 8.00 s. What is its average acceleration while stopping?"
   ]
  },
  {
   "cell_type": "code",
   "execution_count": 23,
   "metadata": {},
   "outputs": [
    {
     "name": "stdout",
     "output_type": "stream",
     "text": [
      "-1.04 m/s^2\n"
     ]
    }
   ],
   "source": [
    "tr_acc = -30 * 1000 / 3600 / 8\n",
    "\n",
    "print(round(tr_acc, 2), \"m/s^2\")"
   ]
  },
  {
   "cell_type": "markdown",
   "metadata": {},
   "source": [
    "A jogger runs down a straight stretch of road with an average velocity of 4.00 m/s for 2.00 min. What is his final position, taking his initial position to be zero?"
   ]
  },
  {
   "cell_type": "code",
   "execution_count": 6,
   "metadata": {},
   "outputs": [
    {
     "name": "stdout",
     "output_type": "stream",
     "text": [
      "480 m\n"
     ]
    }
   ],
   "source": [
    "# x = x0 + v * t\n",
    "x = 0 + (4 * (2 * 60))\n",
    "\n",
    "print(x, 'm')"
   ]
  },
  {
   "cell_type": "markdown",
   "metadata": {},
   "source": [
    "An airplane lands with an initial velocity of 70.0 m/s and then decelerates at  1.50 m/s^2 for 40.0 s. What is its final velocity?"
   ]
  },
  {
   "cell_type": "code",
   "execution_count": 5,
   "metadata": {},
   "outputs": [
    {
     "name": "stdout",
     "output_type": "stream",
     "text": [
      "10.0 m/s\n"
     ]
    }
   ],
   "source": [
    "# v = v0 + a * t\n",
    "v = 70 + (-1.5 * 40)\n",
    "\n",
    "print(v, 'm/s')"
   ]
  },
  {
   "cell_type": "markdown",
   "metadata": {},
   "source": [
    "Dragsters can achieve average accelerations of  26.0 m/s^2. Suppose such a dragster accelerates from rest at this rate for 5.56 s. How far does it travel in this time?"
   ]
  },
  {
   "cell_type": "code",
   "execution_count": 9,
   "metadata": {},
   "outputs": [
    {
     "name": "stdout",
     "output_type": "stream",
     "text": [
      "402  m\n"
     ]
    }
   ],
   "source": [
    "# x = x0 + v0*t + 1/2*a*t^2\n",
    "x = 0 + (0 * 5.56) + (0.5 * 26 * (5.56**2))\n",
    "print(round(x), ' m')"
   ]
  },
  {
   "cell_type": "markdown",
   "metadata": {},
   "source": [
    "Calculate the final velocity of the dragster."
   ]
  },
  {
   "cell_type": "code",
   "execution_count": 14,
   "metadata": {},
   "outputs": [
    {
     "name": "stdout",
     "output_type": "stream",
     "text": [
      "145 m/s\n"
     ]
    }
   ],
   "source": [
    "# v^2 = v0^2 + 2a(x - x0)\n",
    "\n",
    "from math import sqrt\n",
    "final_v = sqrt((2 * 26) * 402)\n",
    "print(round(final_v), 'm/s')"
   ]
  },
  {
   "cell_type": "markdown",
   "metadata": {},
   "source": [
    "On dry concrete, a car can decelerate at a rate of  7.00 m/s^2, whereas on wet concrete it can decelerate at only  5.00 m/s^2. Find the distances necessary to stop a car moving at 30.0 m/s (about 110 km/h) \n",
    "\n",
    "(a) on dry concrete and \n",
    "\n",
    "(b) on wet concrete. \n",
    "\n",
    "(c) Repeat both calculations, finding the displacement from the point where the driver sees a traffic light turn red, taking into account his reaction time of 0.500 s to get his foot on the brake."
   ]
  },
  {
   "cell_type": "code",
   "execution_count": 37,
   "metadata": {},
   "outputs": [
    {
     "name": "stdout",
     "output_type": "stream",
     "text": [
      "wet distance: 90\n",
      "dry distance: 64\n",
      "reaction wet distance: 105\n",
      "reaction dry distance: 79\n"
     ]
    }
   ],
   "source": [
    "w_a = -5\n",
    "d_a = -7\n",
    "r_t = 0.5\n",
    "v = 30\n",
    "\n",
    "w_t = -v/w_a\n",
    "w_distance = ((v * w_t) + (0.5 * w_a * (w_t**2)))\n",
    "\n",
    "d_t = -v/d_a\n",
    "d_distance = ((v * d_t) + (0.5 * d_a * (d_t**2)))\n",
    "\n",
    "r_w_distance = w_distance + (r_t * v)\n",
    "r_d_distance = d_distance + (r_t * v)\n",
    "\n",
    "print('wet distance:', round(w_distance))\n",
    "print('dry distance:', round(d_distance))\n",
    "print('reaction wet distance:', round(r_w_distance))\n",
    "print('reaction dry distance:', round(r_d_distance))\n"
   ]
  },
  {
   "cell_type": "markdown",
   "metadata": {},
   "source": [
    "Suppose a car merges into freeway traffic on a 200-m-long ramp. If its initial velocity is 10.0 m/s and it accelerates at  2.00 m/s^2, how long does it take to travel the 200 m up the ramp? (Such information might be useful to a traffic engineer.)\n",
    "\n",
    "x = x0 + v0*t + 0.5*a*t^2\n",
    "\n",
    "200 = 0 + 10 * t + 0.5 * 2 * t^2\n",
    "\n",
    "200 = 10t + t^2\n",
    "\n",
    "t^2 + 10t - 200 = 0\n",
    "\n",
    "(t - 10) * (t + 20) = 0\n",
    "\n",
    "t = 10 or t = -20\n",
    "\n",
    "t = 10 s\n"
   ]
  },
  {
   "cell_type": "markdown",
   "metadata": {},
   "source": [
    "A rocket accelerates at a rate of  20 m/s^2 during launch. How long does it take the rocket to reach a velocity of 400 m/s?\n",
    "\n",
    "a = 20 m/s^2\n",
    "\n",
    "v = 400 m/s\n",
    "\n",
    "v0 = 0 m/s\n",
    "\n",
    "<hr>\n",
    "\n",
    "400 = 0 + 20t\n",
    "\n",
    "20t = 400\n",
    "\n",
    "t = 20"
   ]
  },
  {
   "cell_type": "markdown",
   "metadata": {},
   "source": [
    "A person standing on the edge of a high cliff throws a rock straight up with an initial velocity of 13.0 m/s. The rock misses the edge of the cliff as it falls back to earth. Calculate the position and velocity of the rock 1.00 s, 2.00 s, and 3.00 s after it is thrown, neglecting the effects of air resistance.\n"
   ]
  },
  {
   "cell_type": "code",
   "execution_count": 55,
   "metadata": {},
   "outputs": [
    {
     "name": "stdout",
     "output_type": "stream",
     "text": [
      "1.0 s | v 3.2 | y 8.1\n",
      "2.0 s | v -6.6 | y 6.4\n",
      "3.0 s | v -16.4 | y -5.1\n"
     ]
    }
   ],
   "source": [
    "seconds = [1, 2, 3]\n",
    "# seconds = [round(x * 0.01, 2) for x in range(300)]\n",
    "v0 = 13\n",
    "g = 9.8\n",
    "\n",
    "def v_and_y(v0, t, g):\n",
    "    v = v0 - (g*t)\n",
    "    y = 0 + (v0*t) - (0.5*g*(t**2))\n",
    "    return round(v, 2), round(y, 2)\n",
    "\n",
    "for s in seconds:\n",
    "    v, y = v_and_y(v0, s, g)\n",
    "    print(s*1.0, 's |', 'v', v, '| y', y)"
   ]
  },
  {
   "cell_type": "markdown",
   "metadata": {},
   "source": [
    "What happens if the person on the cliff throws the rock straight down, instead of straight up? To explore this question, calculate the velocity of the rock when it is 5.10 m below the starting point, and has been thrown downward with an initial speed of 13.0 m/s."
   ]
  },
  {
   "cell_type": "code",
   "execution_count": 78,
   "metadata": {},
   "outputs": [
    {
     "name": "stdout",
     "output_type": "stream",
     "text": [
      "-16.4\n"
     ]
    }
   ],
   "source": [
    "from math import sqrt\n",
    "v0 = -13\n",
    "y = -5.1\n",
    "g = -9.8\n",
    "\n",
    "v = -sqrt(v0**2 + ((2 * g) * y))\n",
    "print(v)"
   ]
  },
  {
   "cell_type": "markdown",
   "metadata": {},
   "source": [
    "A chunk of ice breaks off a glacier and falls 30.0 meters before it hits the water. Assuming it falls freely (there is no air resistance), how long does it take to hit the water?"
   ]
  },
  {
   "cell_type": "code",
   "execution_count": 83,
   "metadata": {},
   "outputs": [
    {
     "name": "stdout",
     "output_type": "stream",
     "text": [
      "2.47\n"
     ]
    }
   ],
   "source": [
    "y = -30\n",
    "g = -9.8\n",
    "v0 = 0\n",
    "\n",
    "v = -sqrt((v0**2) + ((2*g) * y))\n",
    "t = (v0 + (v / g))\n",
    "\n",
    "print(round(t, 2))\n"
   ]
  },
  {
   "cell_type": "code",
   "execution_count": null,
   "metadata": {},
   "outputs": [],
   "source": []
  }
 ],
 "metadata": {
  "kernelspec": {
   "display_name": "venv",
   "language": "python",
   "name": "python3"
  },
  "language_info": {
   "codemirror_mode": {
    "name": "ipython",
    "version": 3
   },
   "file_extension": ".py",
   "mimetype": "text/x-python",
   "name": "python",
   "nbconvert_exporter": "python",
   "pygments_lexer": "ipython3",
   "version": "3.12.2"
  }
 },
 "nbformat": 4,
 "nbformat_minor": 2
}
