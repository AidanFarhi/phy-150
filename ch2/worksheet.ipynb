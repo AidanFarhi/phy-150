{
 "cells": [
  {
   "cell_type": "markdown",
   "metadata": {},
   "source": [
    "A cyclist rides 3 km west and then turns around and rides 2 km east.\n",
    "\n",
    "(a) What is their displacement? \n",
    "\n",
    "Δ𝑥 = 𝑥f − 𝑥0 = -1.0 km − 0 km = -1.0 km.\n",
    "\n",
    "(b) What distance do they ride?\n",
    "\n",
    "3 km + 2 km = 5 km\n",
    "\n",
    "(c) What is the magnitude of their displacement?\n",
    "\n",
    "1 km"
   ]
  },
  {
   "cell_type": "markdown",
   "metadata": {},
   "source": [
    "A commuter train travels from Baltimore to Washington, DC, and back in 1 hour and 45 minutes. The distance between the two stations is approximately 40 miles. What is \n",
    "\n",
    "(a) the average velocity of the train\n",
    "\n",
    "0\n",
    "\n",
    "(b) the average speed of the train in m/s?\n",
    "\n",
    "20.44 m/s"
   ]
  },
  {
   "cell_type": "markdown",
   "metadata": {},
   "source": [
    "Average Speed"
   ]
  },
  {
   "cell_type": "code",
   "execution_count": 14,
   "metadata": {},
   "outputs": [
    {
     "name": "stdout",
     "output_type": "stream",
     "text": [
      "20.44 m/s\n"
     ]
    }
   ],
   "source": [
    "miles_per_minute = 80 / 105\n",
    "miles_per_second = miles_per_minute / 60\n",
    "meters_per_second = miles_per_second * 1609.34\n",
    "\n",
    "print(round(meters_per_second, 2), 'm/s')"
   ]
  },
  {
   "cell_type": "markdown",
   "metadata": {},
   "source": [
    "A racehorse coming out of the gate accelerates from rest to a velocity of 15.0 m/s due west in 1.80 s. What is its average acceleration?"
   ]
  },
  {
   "cell_type": "code",
   "execution_count": 2,
   "metadata": {},
   "outputs": [
    {
     "name": "stdout",
     "output_type": "stream",
     "text": [
      "-8.33 m/s^2\n"
     ]
    }
   ],
   "source": [
    "avg_acc = -15 / 1.8\n",
    "\n",
    "print(round(avg_acc, 2), \"m/s^2\")"
   ]
  },
  {
   "cell_type": "markdown",
   "metadata": {},
   "source": [
    "Suppose a train accelerates from rest to 30.0 km/h in the first 20.0 s of its motion. What is its average acceleration during that time interval?"
   ]
  },
  {
   "cell_type": "code",
   "execution_count": 22,
   "metadata": {},
   "outputs": [
    {
     "name": "stdout",
     "output_type": "stream",
     "text": [
      "0.42 m/s^2\n"
     ]
    }
   ],
   "source": [
    "tr_acc = 30 * 1000 / 3600 / 20\n",
    "\n",
    "print(round(tr_acc, 2), \"m/s^2\")"
   ]
  },
  {
   "cell_type": "markdown",
   "metadata": {},
   "source": [
    "Now suppose that at the end of its trip, the train slows to a stop from a speed of 30.0 km/h in 8.00 s. What is its average acceleration while stopping?"
   ]
  },
  {
   "cell_type": "code",
   "execution_count": 23,
   "metadata": {},
   "outputs": [
    {
     "name": "stdout",
     "output_type": "stream",
     "text": [
      "-1.04 m/s^2\n"
     ]
    }
   ],
   "source": [
    "tr_acc = -30 * 1000 / 3600 / 8\n",
    "\n",
    "print(round(tr_acc, 2), \"m/s^2\")"
   ]
  },
  {
   "cell_type": "code",
   "execution_count": null,
   "metadata": {},
   "outputs": [],
   "source": []
  }
 ],
 "metadata": {
  "kernelspec": {
   "display_name": "venv",
   "language": "python",
   "name": "python3"
  },
  "language_info": {
   "codemirror_mode": {
    "name": "ipython",
    "version": 3
   },
   "file_extension": ".py",
   "mimetype": "text/x-python",
   "name": "python",
   "nbconvert_exporter": "python",
   "pygments_lexer": "ipython3",
   "version": "3.12.2"
  }
 },
 "nbformat": 4,
 "nbformat_minor": 2
}
